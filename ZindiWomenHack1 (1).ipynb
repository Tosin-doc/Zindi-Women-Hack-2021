{
  "nbformat": 4,
  "nbformat_minor": 0,
  "metadata": {
    "colab": {
      "name": "ZindiWomenHack1.ipynb",
      "provenance": []
    },
    "kernelspec": {
      "display_name": "Python 3",
      "name": "python3"
    },
    "language_info": {
      "name": "python"
    }
  },
  "cells": [
    {
      "cell_type": "markdown",
      "metadata": {
        "id": "d3Q_DdpFJORV"
      },
      "source": [
        "# Import Library\n",
        "## All Dependencies\n"
      ]
    },
    {
      "cell_type": "code",
      "metadata": {
        "colab": {
          "base_uri": "https://localhost:8080/"
        },
        "id": "10PQarhI8i-J",
        "outputId": "2b2dfae1-fda7-45c2-d631-84336e3e9028"
      },
      "source": [
        "import numpy as np\n",
        "import pandas as pd\n",
        "import seaborn as sns\n",
        "\n",
        "from sklearn.model_selection import train_test_split\n",
        "from sklearn.metrics import accuracy_score, f1_score, roc_auc_score\n",
        "\n",
        "from sklearn.model_selection import StratifiedKFold\n",
        "from sklearn.preprocessing import LabelEncoder\n",
        "!pip install lightgbm\n",
        "from lightgbm import LGBMClassifier"
      ],
      "execution_count": 1,
      "outputs": [
        {
          "output_type": "stream",
          "text": [
            "Requirement already satisfied: lightgbm in /usr/local/lib/python3.7/dist-packages (2.2.3)\n",
            "Requirement already satisfied: scipy in /usr/local/lib/python3.7/dist-packages (from lightgbm) (1.4.1)\n",
            "Requirement already satisfied: numpy in /usr/local/lib/python3.7/dist-packages (from lightgbm) (1.19.5)\n",
            "Requirement already satisfied: scikit-learn in /usr/local/lib/python3.7/dist-packages (from lightgbm) (0.22.2.post1)\n",
            "Requirement already satisfied: joblib>=0.11 in /usr/local/lib/python3.7/dist-packages (from scikit-learn->lightgbm) (1.0.1)\n"
          ],
          "name": "stdout"
        }
      ]
    },
    {
      "cell_type": "markdown",
      "metadata": {
        "id": "PCBRPdkYJkjJ"
      },
      "source": [
        "# Data Loading\n"
      ]
    },
    {
      "cell_type": "code",
      "metadata": {
        "id": "ebXeGMTJ9Oyl"
      },
      "source": [
        "train_df = pd.read_csv(\"/content/drive/MyDrive/Zindi Women/Train (3).csv\")\n",
        "test_df = pd.read_csv(\"/content/drive/MyDrive/Zindi Women/Test (2).csv\")\n",
        "\n"
      ],
      "execution_count": 2,
      "outputs": []
    },
    {
      "cell_type": "markdown",
      "metadata": {
        "id": "3IIa-wsbff-L"
      },
      "source": [
        "# Data Preprocessing"
      ]
    },
    {
      "cell_type": "code",
      "metadata": {
        "id": "Px5W7EvofdUm"
      },
      "source": [
        "test_df['target'] = 'test' #for easy separation\n",
        "\n",
        "#combine train and test to avoid repetition\n",
        "data = pd.concat([train_df,test_df]).reset_index(drop=True)"
      ],
      "execution_count": 3,
      "outputs": []
    },
    {
      "cell_type": "markdown",
      "metadata": {
        "id": "_KxDE85nJwTu"
      },
      "source": [
        "# Categorical Data Conversion\n"
      ]
    },
    {
      "cell_type": "code",
      "metadata": {
        "id": "b3p9O88e9WjK"
      },
      "source": [
        "#using get dummies function from pandas\n",
        "data = pd.get_dummies(columns=['gender','race', 'dwelling', 'dwelling_type',\n",
        "       'province_code', 'metro_code', 'nationality', 'RTH',\n",
        "       'marital_st', 'Lang_inside', 'Lang_outside', 'Education', 'lw_work',\n",
        "       'lw_business', 'help_on_household', 'job_or_business', 'nature_of_work'],data=data,drop_first=True)"
      ],
      "execution_count": 4,
      "outputs": []
    },
    {
      "cell_type": "code",
      "metadata": {
        "id": "URGQyjIX9d8J"
      },
      "source": [
        "#columns to drop after data conversion from categorical to numerical\n",
        "bad_cols = [\"Education_Grade 7/Standard 5/AET 3\",\n",
        "\"Education_Higher degree (Master's; Doctorate)\",\n",
        "\"metro_code_WC - Non Metro\",\n",
        "\"help_on_household_No\",\n",
        "\"nature_of_work_Casual\",\n",
        "\"Lang_outside_Tshivenda\",\n",
        "\"Lang_inside_Xitsonga\",\n",
        "\"Education_Grade 2/Sub B/Class 2\",\n",
        "\"RTH_Grandchild/great grandchild of person 01\",\n",
        "\"province_code_Limpopo\",\n",
        "\"dwelling_Dwelling/house/flat/room in backyard\",\n",
        "\"Lang_inside_Sesotho\",\n",
        "\"Lang_inside_Sepedi\",\n",
        "\"job_or_business_Unspecified\",\n",
        "\"Lang_inside_SiSwati\",\n",
        "\"Lang_outside_SiSwati\",\n",
        "\"Lang_inside_Tshivenda\",\n",
        "\"Lang_inside_Other (Specify )\",\n",
        "\"Education_Do not know\",\n",
        "\"metro_code_MP - Non Metro\",\n",
        "\"lw_business_No\",\n",
        "\"lw_business_Unspecified\",\n",
        "\"RTH_Father/mother/stepfather/stepmother of person 01\",\n",
        "\"metro_code_NW - Non Metro\",\n",
        "\"help_on_household_Unspecified\",\n",
        "\"help_on_household_Yes\",\n",
        "\"metro_code_NC - Non Metro\",\n",
        "\"metro_code_GP - City of Johannesburg\",\n",
        "\"metro_code_LP - Non Metro\",\n",
        "\"lw_work_Unspecified\",\n",
        "\"province_code_Western Cape\",\n",
        "\"nature_of_work_Do not know\",\n",
        "\"nature_of_work_Not applicable\",\n",
        "\"province_code_Free State\",\n",
        "\"nature_of_work_Seasonal\",\n",
        "\"dwelling_Other (specify)\",\n",
        "\"RTH_Grandparent/great grandparent of person 01\",\n",
        "\"marital_st_Unspecified\",\n",
        "\"RTH_Unspecified\",\n",
        "\"Lang_inside_IsiNdebele\",\n",
        "\"Education_Certificate with less than Grade 12/Std 10\",\n",
        "\"Lang_outside_Unspecified\",\n",
        "\"Lang_outside_Khoi, Nama and San languages\",\n",
        "\"Lang_outside_IsiNdebele\",\n",
        "\"Lang_inside_Sign language\",\n",
        "\"Education_Grade R/0\",\n",
        "\"Lang_inside_Khoi, Nama and San languages\",\n",
        "\"Education_N4/NTC 4\",\n",
        "\"Education_Diploma with less than Grade 12/Std 10\",\n",
        "\"Education_N5/NTC 5\",\n",
        "\"Education_N6/NTC 6\",\n",
        "\"Education_NTC 1/N1/NC (V) /Level 2\",\n",
        "\"Education_NTC 2/N2/NC (V)/Level 3\",\n",
        "\"Education_NTC 3/N3/NC (V)/Level 4\",\n",
        "\"Education_Other\",\n",
        "\"Education_Post-Higher Diploma (Technikon/University of Technology; Master's; Doctoral)\",\n",
        "\"nature_of_work_Unspecified\"]"
      ],
      "execution_count": 5,
      "outputs": []
    },
    {
      "cell_type": "code",
      "metadata": {
        "id": "RCrp7hUw9f36"
      },
      "source": [
        "data = data.drop(columns = bad_cols, axis=1)"
      ],
      "execution_count": 6,
      "outputs": []
    },
    {
      "cell_type": "code",
      "metadata": {
        "id": "x2daHUr19ihz"
      },
      "source": [
        "#splitting back into train and test dataframes\n",
        "train_df = data.loc[(data['target'] != 'test')].reset_index(drop = True)\n",
        "test_df = data.loc[(data['target'] == 'test')].reset_index(drop = True)"
      ],
      "execution_count": 7,
      "outputs": []
    },
    {
      "cell_type": "code",
      "metadata": {
        "id": "cPQwHfAV9l-t"
      },
      "source": [
        "#dropping the redundant ID column and the target variable from train data\n",
        "features = train_df.drop([\"target\", \"ID\"], axis=1).columns"
      ],
      "execution_count": 8,
      "outputs": []
    },
    {
      "cell_type": "markdown",
      "metadata": {
        "id": "CrXfvNxkKCWE"
      },
      "source": [
        "# Modelling\n"
      ]
    },
    {
      "cell_type": "code",
      "metadata": {
        "id": "lx3xMF9_9n6J"
      },
      "source": [
        "def metric(y, pred):\n",
        "    return roc_auc_score(y, pred, labels=[0, 1])\n",
        "# feature columns\n",
        "X = train_df.drop([\"target\", \"ID\"], axis=1) \n",
        "# the label/target column\n",
        "y = train_df[\"target\"].apply(int) "
      ],
      "execution_count": 9,
      "outputs": []
    },
    {
      "cell_type": "code",
      "metadata": {
        "id": "PNLmzEMx9rL3"
      },
      "source": [
        "#cross validation\n",
        "n_skf=12\n",
        "kf=StratifiedKFold(n_skf)\n",
        "seed=2020\n"
      ],
      "execution_count": 10,
      "outputs": []
    },
    {
      "cell_type": "code",
      "metadata": {
        "colab": {
          "base_uri": "https://localhost:8080/"
        },
        "id": "OY5CyV9a9v5p",
        "outputId": "1117b0bd-4b9e-48ae-fdf9-9e440d3c8455"
      },
      "source": [
        "score_list = []\n",
        "score = 0\n",
        "test_oofs = []\n",
        "\n",
        "#multiple iterations with stratified kfold\n",
        "for i, (tr_idx, vr_idx) in enumerate(kf.split(X,y)):\n",
        "    X_train, y_train = X.loc[tr_idx, features], y.loc[tr_idx]\n",
        "    xval, yval = X.loc[vr_idx, features], y.loc[vr_idx]\n",
        "    \n",
        "    \n",
        "    #model fitting \n",
        "    model=LGBMClassifier(num_leaves=25,max_depth=14,reg_alpha=1,reg_lambda=2,subsample=0.7,subsample_freq=1,colsample_bytree=0.3,n_estimators=4000,learning_rate=0.005)\n",
        "    model.fit(X_train, y_train, eval_set=[(xval,yval)],early_stopping_rounds=300, verbose=100,eval_metric='auc')\n",
        "    \n",
        "    #model prediction\n",
        "    p = model.predict_proba(xval)[:, 1]\n",
        "    sc = metric(yval, p)\n",
        "    score_list.append(sc)\n",
        "    score += sc/n_skf\n",
        "    \n",
        "    #prediction on test data\n",
        "    pred=model.predict_proba(test_df[features])[:, 1]\n",
        "\n",
        "    #append last prediction to the test_oof empty list\n",
        "    test_oofs.append(pred)\n",
        "    \n",
        "    print('Fold {} : {}'.format(i, sc))\n",
        "    \n",
        "print()\n",
        "print()\n",
        "print('Avg log :',score)"
      ],
      "execution_count": 11,
      "outputs": [
        {
          "output_type": "stream",
          "text": [
            "Training until validation scores don't improve for 300 rounds.\n",
            "[100]\tvalid_0's auc: 0.651597\tvalid_0's binary_logloss: 0.269296\n",
            "[200]\tvalid_0's auc: 0.664773\tvalid_0's binary_logloss: 0.26668\n",
            "[300]\tvalid_0's auc: 0.661109\tvalid_0's binary_logloss: 0.265552\n",
            "[400]\tvalid_0's auc: 0.659261\tvalid_0's binary_logloss: 0.264972\n",
            "[500]\tvalid_0's auc: 0.657513\tvalid_0's binary_logloss: 0.264869\n",
            "Early stopping, best iteration is:\n",
            "[204]\tvalid_0's auc: 0.665345\tvalid_0's binary_logloss: 0.266631\n",
            "Fold 0 : 0.6653445378151261\n",
            "Training until validation scores don't improve for 300 rounds.\n",
            "[100]\tvalid_0's auc: 0.580756\tvalid_0's binary_logloss: 0.27026\n",
            "[200]\tvalid_0's auc: 0.584605\tvalid_0's binary_logloss: 0.269095\n",
            "[300]\tvalid_0's auc: 0.585311\tvalid_0's binary_logloss: 0.268847\n",
            "Early stopping, best iteration is:\n",
            "[3]\tvalid_0's auc: 0.645092\tvalid_0's binary_logloss: 0.272494\n",
            "Fold 1 : 0.6450924369747899\n",
            "Training until validation scores don't improve for 300 rounds.\n",
            "[100]\tvalid_0's auc: 0.650857\tvalid_0's binary_logloss: 0.26873\n",
            "[200]\tvalid_0's auc: 0.644605\tvalid_0's binary_logloss: 0.266716\n",
            "[300]\tvalid_0's auc: 0.638958\tvalid_0's binary_logloss: 0.265834\n",
            "Early stopping, best iteration is:\n",
            "[7]\tvalid_0's auc: 0.665109\tvalid_0's binary_logloss: 0.272308\n",
            "Fold 2 : 0.665109243697479\n",
            "Training until validation scores don't improve for 300 rounds.\n",
            "[100]\tvalid_0's auc: 0.642536\tvalid_0's binary_logloss: 0.271832\n",
            "[200]\tvalid_0's auc: 0.647521\tvalid_0's binary_logloss: 0.268774\n",
            "[300]\tvalid_0's auc: 0.651251\tvalid_0's binary_logloss: 0.266735\n",
            "Early stopping, best iteration is:\n",
            "[4]\tvalid_0's auc: 0.655245\tvalid_0's binary_logloss: 0.276207\n",
            "Fold 3 : 0.6552452630884003\n",
            "Training until validation scores don't improve for 300 rounds.\n",
            "[100]\tvalid_0's auc: 0.68809\tvalid_0's binary_logloss: 0.271122\n",
            "[200]\tvalid_0's auc: 0.689311\tvalid_0's binary_logloss: 0.267896\n",
            "[300]\tvalid_0's auc: 0.684723\tvalid_0's binary_logloss: 0.265958\n",
            "Early stopping, best iteration is:\n",
            "[62]\tvalid_0's auc: 0.689741\tvalid_0's binary_logloss: 0.272927\n",
            "Fold 4 : 0.6897405426817191\n",
            "Training until validation scores don't improve for 300 rounds.\n",
            "[100]\tvalid_0's auc: 0.625734\tvalid_0's binary_logloss: 0.273172\n",
            "[200]\tvalid_0's auc: 0.632832\tvalid_0's binary_logloss: 0.271108\n",
            "[300]\tvalid_0's auc: 0.629234\tvalid_0's binary_logloss: 0.270324\n",
            "Early stopping, best iteration is:\n",
            "[1]\tvalid_0's auc: 0.660791\tvalid_0's binary_logloss: 0.276395\n",
            "Fold 5 : 0.6607909156928764\n",
            "Training until validation scores don't improve for 300 rounds.\n",
            "[100]\tvalid_0's auc: 0.672575\tvalid_0's binary_logloss: 0.271932\n",
            "[200]\tvalid_0's auc: 0.676074\tvalid_0's binary_logloss: 0.269302\n",
            "[300]\tvalid_0's auc: 0.67383\tvalid_0's binary_logloss: 0.267836\n",
            "Early stopping, best iteration is:\n",
            "[6]\tvalid_0's auc: 0.691589\tvalid_0's binary_logloss: 0.276071\n",
            "Fold 6 : 0.691589093549878\n",
            "Training until validation scores don't improve for 300 rounds.\n",
            "[100]\tvalid_0's auc: 0.697762\tvalid_0's binary_logloss: 0.270304\n",
            "[200]\tvalid_0's auc: 0.705585\tvalid_0's binary_logloss: 0.266236\n",
            "[300]\tvalid_0's auc: 0.709414\tvalid_0's binary_logloss: 0.26346\n",
            "[400]\tvalid_0's auc: 0.709711\tvalid_0's binary_logloss: 0.261692\n",
            "[500]\tvalid_0's auc: 0.714135\tvalid_0's binary_logloss: 0.259904\n",
            "[600]\tvalid_0's auc: 0.713012\tvalid_0's binary_logloss: 0.258923\n",
            "[700]\tvalid_0's auc: 0.713376\tvalid_0's binary_logloss: 0.258025\n",
            "[800]\tvalid_0's auc: 0.715125\tvalid_0's binary_logloss: 0.257176\n",
            "[900]\tvalid_0's auc: 0.717238\tvalid_0's binary_logloss: 0.256554\n",
            "[1000]\tvalid_0's auc: 0.718492\tvalid_0's binary_logloss: 0.256006\n",
            "[1100]\tvalid_0's auc: 0.72077\tvalid_0's binary_logloss: 0.25549\n",
            "[1200]\tvalid_0's auc: 0.721034\tvalid_0's binary_logloss: 0.255207\n",
            "[1300]\tvalid_0's auc: 0.721232\tvalid_0's binary_logloss: 0.254901\n",
            "[1400]\tvalid_0's auc: 0.720968\tvalid_0's binary_logloss: 0.254734\n",
            "[1500]\tvalid_0's auc: 0.722717\tvalid_0's binary_logloss: 0.254422\n",
            "[1600]\tvalid_0's auc: 0.722783\tvalid_0's binary_logloss: 0.254384\n",
            "[1700]\tvalid_0's auc: 0.72275\tvalid_0's binary_logloss: 0.254206\n",
            "[1800]\tvalid_0's auc: 0.723807\tvalid_0's binary_logloss: 0.25394\n",
            "[1900]\tvalid_0's auc: 0.72242\tvalid_0's binary_logloss: 0.254058\n",
            "[2000]\tvalid_0's auc: 0.723576\tvalid_0's binary_logloss: 0.253812\n",
            "[2100]\tvalid_0's auc: 0.722189\tvalid_0's binary_logloss: 0.253798\n",
            "[2200]\tvalid_0's auc: 0.721694\tvalid_0's binary_logloss: 0.253927\n",
            "[2300]\tvalid_0's auc: 0.721166\tvalid_0's binary_logloss: 0.254137\n",
            "Early stopping, best iteration is:\n",
            "[2011]\tvalid_0's auc: 0.724005\tvalid_0's binary_logloss: 0.253738\n",
            "Fold 7 : 0.724004753416518\n",
            "Training until validation scores don't improve for 300 rounds.\n",
            "[100]\tvalid_0's auc: 0.653535\tvalid_0's binary_logloss: 0.268416\n",
            "[200]\tvalid_0's auc: 0.651313\tvalid_0's binary_logloss: 0.26592\n",
            "[300]\tvalid_0's auc: 0.649024\tvalid_0's binary_logloss: 0.264556\n",
            "Early stopping, best iteration is:\n",
            "[8]\tvalid_0's auc: 0.686936\tvalid_0's binary_logloss: 0.272397\n",
            "Fold 8 : 0.686936026936027\n",
            "Training until validation scores don't improve for 300 rounds.\n",
            "[100]\tvalid_0's auc: 0.704024\tvalid_0's binary_logloss: 0.266564\n",
            "[200]\tvalid_0's auc: 0.702003\tvalid_0's binary_logloss: 0.262803\n",
            "[300]\tvalid_0's auc: 0.702912\tvalid_0's binary_logloss: 0.260133\n",
            "Early stopping, best iteration is:\n",
            "[13]\tvalid_0's auc: 0.71298\tvalid_0's binary_logloss: 0.271801\n",
            "Fold 9 : 0.7129797979797978\n",
            "Training until validation scores don't improve for 300 rounds.\n",
            "[100]\tvalid_0's auc: 0.663906\tvalid_0's binary_logloss: 0.268026\n",
            "[200]\tvalid_0's auc: 0.665522\tvalid_0's binary_logloss: 0.265002\n",
            "[300]\tvalid_0's auc: 0.668013\tvalid_0's binary_logloss: 0.262976\n",
            "[400]\tvalid_0's auc: 0.672626\tvalid_0's binary_logloss: 0.26141\n",
            "[500]\tvalid_0's auc: 0.67367\tvalid_0's binary_logloss: 0.260417\n",
            "[600]\tvalid_0's auc: 0.676027\tvalid_0's binary_logloss: 0.259719\n",
            "[700]\tvalid_0's auc: 0.678013\tvalid_0's binary_logloss: 0.259215\n",
            "[800]\tvalid_0's auc: 0.679899\tvalid_0's binary_logloss: 0.258757\n",
            "[900]\tvalid_0's auc: 0.680943\tvalid_0's binary_logloss: 0.258377\n",
            "[1000]\tvalid_0's auc: 0.68138\tvalid_0's binary_logloss: 0.2581\n",
            "[1100]\tvalid_0's auc: 0.682795\tvalid_0's binary_logloss: 0.257812\n",
            "[1200]\tvalid_0's auc: 0.683535\tvalid_0's binary_logloss: 0.257611\n",
            "[1300]\tvalid_0's auc: 0.683199\tvalid_0's binary_logloss: 0.257502\n",
            "[1400]\tvalid_0's auc: 0.683636\tvalid_0's binary_logloss: 0.257394\n",
            "[1500]\tvalid_0's auc: 0.682727\tvalid_0's binary_logloss: 0.257322\n",
            "[1600]\tvalid_0's auc: 0.684444\tvalid_0's binary_logloss: 0.257262\n",
            "[1700]\tvalid_0's auc: 0.684377\tvalid_0's binary_logloss: 0.257217\n",
            "[1800]\tvalid_0's auc: 0.684646\tvalid_0's binary_logloss: 0.25723\n",
            "[1900]\tvalid_0's auc: 0.68367\tvalid_0's binary_logloss: 0.25724\n",
            "Early stopping, best iteration is:\n",
            "[1632]\tvalid_0's auc: 0.685017\tvalid_0's binary_logloss: 0.257232\n",
            "Fold 10 : 0.6850168350168351\n",
            "Training until validation scores don't improve for 300 rounds.\n",
            "[100]\tvalid_0's auc: 0.645522\tvalid_0's binary_logloss: 0.268448\n",
            "[200]\tvalid_0's auc: 0.637845\tvalid_0's binary_logloss: 0.266316\n",
            "[300]\tvalid_0's auc: 0.641987\tvalid_0's binary_logloss: 0.264671\n",
            "[400]\tvalid_0's auc: 0.641077\tvalid_0's binary_logloss: 0.263984\n",
            "Early stopping, best iteration is:\n",
            "[114]\tvalid_0's auc: 0.648013\tvalid_0's binary_logloss: 0.267925\n",
            "Fold 11 : 0.648013468013468\n",
            "\n",
            "\n",
            "Avg log : 0.6774885762385763\n"
          ],
          "name": "stdout"
        }
      ]
    },
    {
      "cell_type": "markdown",
      "metadata": {
        "id": "EXhnGVGThBfm"
      },
      "source": [
        "# Creating Submission File"
      ]
    },
    {
      "cell_type": "code",
      "metadata": {
        "id": "97wvWitSL9Eo"
      },
      "source": [
        "submission_df = pd.DataFrame()\n",
        "submission_df[\"ID\"] = test_df[\"ID\"]"
      ],
      "execution_count": 12,
      "outputs": []
    },
    {
      "cell_type": "code",
      "metadata": {
        "id": "qbvq_yGo94Y_"
      },
      "source": [
        "submission_df[\"target\"] = np.mean(test_oofs, axis=0)\n",
        "submission_df.to_csv(\"hopes.csv\", index=False)"
      ],
      "execution_count": 13,
      "outputs": []
    },
    {
      "cell_type": "markdown",
      "metadata": {
        "id": "9XcqIfg0OOcI"
      },
      "source": [
        "# Blending The Two Best Models"
      ]
    },
    {
      "cell_type": "code",
      "metadata": {
        "id": "S_5mEyWIM4gV"
      },
      "source": [
        "#import the second best model file, giving it a variable name 'umoja'\n",
        "umoja= pd.read_csv('/content/drive/MyDrive/Colab Notebooks/Umoja.csv')\n",
        "#Note: 'hopes' is the best performing model\n",
        "hopes = pd.read_csv(\"hopes.csv\")"
      ],
      "execution_count": 14,
      "outputs": []
    },
    {
      "cell_type": "code",
      "metadata": {
        "id": "fPLapBAI-QF0"
      },
      "source": [
        "#create a dataframe for the submission files\n",
        "blend = pd.DataFrame()\n",
        "blend[\"ID\"] = umoja.ID #set the ID accordingly\n",
        "\n",
        "#fit the 'umoja' and 'hopes' target values into separate columns in the 'blend' dataframe\n",
        "blend[\"light\"] =hopes[\"target\"]\n",
        "blend[\"umoja\"] = umoja[\"target\"]"
      ],
      "execution_count": 15,
      "outputs": []
    },
    {
      "cell_type": "code",
      "metadata": {
        "id": "psLXUxMMNAQV"
      },
      "source": [
        "#Giving the first best prediction an estimation value of 0.9 while the second best performing model a score of 0.08\n",
        "blend[\"target\"] = blend.light*(0.9)+blend.umoja*(0.08)\n",
        "\n",
        "#drop 'light and umoja' columns after blending\n",
        "blend = blend.drop(columns= [\"light\",\"umoja\"])\n",
        "\n",
        "#save the csv file as 'Blend_umoja8.csv'\n",
        "blend.to_csv(\"Blend_umoja8.csv\", index=False)"
      ],
      "execution_count": 16,
      "outputs": []
    },
    {
      "cell_type": "code",
      "metadata": {
        "id": "CjoZwrdVQSZg"
      },
      "source": [
        ""
      ],
      "execution_count": 16,
      "outputs": []
    }
  ]
}